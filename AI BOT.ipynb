{
 "cells": [
  {
   "cell_type": "code",
   "execution_count": null,
   "id": "a9d4283a",
   "metadata": {},
   "outputs": [],
   "source": [
    "from lumibot.brokers import Alpaca\n",
    "from lumibot.backtesting import YahooDataBacktesting\n",
    "from lumibot.strategies.strategy import Strategy\n",
    "from lumibot.traders import Trader\n",
    "from datetime import datetime \n",
    "from alpaca_trade_api import REST \n",
    "from timedelta import Timedelta \n",
    "from finbert_utils import estimate_sentiment"
   ]
  },
  {
   "cell_type": "code",
   "execution_count": null,
   "id": "d9755566",
   "metadata": {},
   "outputs": [],
   "source": [
    "API_KEY = \"YOUR API KEY\" \n",
    "API_SECRET = \"YOUR API SECRET\" \n",
    "BASE_URL = \"https://paper-api.alpaca.markets\""
   ]
  },
  {
   "cell_type": "code",
   "execution_count": null,
   "id": "3620bfcf",
   "metadata": {},
   "outputs": [],
   "source": [
    "ALPACA_CREDS = {\n",
    "    \"API_KEY\":API_KEY, \n",
    "    \"API_SECRET\": API_SECRET, \n",
    "    \"PAPER\": True\n",
    "}"
   ]
  },
  {
   "cell_type": "code",
   "execution_count": null,
   "id": "3a36cf5d",
   "metadata": {},
   "outputs": [],
   "source": [
    "class MLTrader(Strategy): \n",
    "    def initialize(self, symbol:str=\"SPY\", cash_at_risk:float=.5): \n",
    "        self.symbol = symbol\n",
    "        self.sleeptime = \"24H\" \n",
    "        self.last_trade = None \n",
    "        self.cash_at_risk = cash_at_risk\n",
    "        self.api = REST(base_url=BASE_URL, key_id=API_KEY, secret_key=API_SECRET)"
   ]
  },
  {
   "cell_type": "code",
   "execution_count": null,
   "id": "e1d5a370",
   "metadata": {},
   "outputs": [],
   "source": [
    " def position_sizing(self): \n",
    "        cash = self.get_cash() \n",
    "        last_price = self.get_last_price(self.symbol)\n",
    "        quantity = round(cash * self.cash_at_risk / last_price,0)\n",
    "        return cash, last_price, quantity\n"
   ]
  },
  {
   "cell_type": "code",
   "execution_count": null,
   "id": "d9c9710e",
   "metadata": {},
   "outputs": [],
   "source": [
    "def get_dates(self): \n",
    "        today = self.get_datetime()\n",
    "        three_days_prior = today - Timedelta(days=3)\n",
    "        return today.strftime('%Y-%m-%d'), three_days_prior.strftime('%Y-%m-%d')\n"
   ]
  },
  {
   "cell_type": "code",
   "execution_count": null,
   "id": "8a52bf9c",
   "metadata": {},
   "outputs": [],
   "source": [
    " def get_sentiment(self): \n",
    "        today, three_days_prior = self.get_dates()\n",
    "        news = self.api.get_news(symbol=self.symbol, \n",
    "                                 start=three_days_prior, \n",
    "                                 end=today) \n",
    "        news = [ev.__dict__[\"_raw\"][\"headline\"] for ev in news]\n",
    "        probability, sentiment = estimate_sentiment(news)\n",
    "        return probability, sentiment "
   ]
  },
  {
   "cell_type": "code",
   "execution_count": null,
   "id": "f61615c3",
   "metadata": {},
   "outputs": [],
   "source": [
    "def on_trading_iteration(self):\n",
    "        cash, last_price, quantity = self.position_sizing() \n",
    "        probability, sentiment = self.get_sentiment()\n",
    "\n",
    "        if cash > last_price: \n",
    "            if sentiment == \"positive\" and probability > .999: \n",
    "                if self.last_trade == \"sell\": \n",
    "                    self.sell_all() \n",
    "                order = self.create_order(\n",
    "                    self.symbol, \n",
    "                    quantity, \n",
    "                    \"buy\", \n",
    "                    type=\"bracket\", \n",
    "                    take_profit_price=last_price*1.20, \n",
    "                    stop_loss_price=last_price*.95\n",
    "                )\n",
    "                self.submit_order(order) \n",
    "                self.last_trade = \"buy\"\n",
    "            elif sentiment == \"negative\" and probability > .999: \n",
    "                if self.last_trade == \"buy\": \n",
    "                    self.sell_all() \n",
    "                order = self.create_order(\n",
    "                    self.symbol, \n",
    "                    quantity, \n",
    "                    \"sell\", \n",
    "                    type=\"bracket\", \n",
    "                    take_profit_price=last_price*.8, \n",
    "                    stop_loss_price=last_price*1.05\n",
    "                )\n",
    "                self.submit_order(order) \n",
    "                self.last_trade = \"sell\"\n"
   ]
  },
  {
   "cell_type": "code",
   "execution_count": null,
   "id": "a63d8178",
   "metadata": {},
   "outputs": [],
   "source": [
    "start_date = datetime(2020,1,1)\n",
    "end_date = datetime(2023,12,31) \n",
    "broker = Alpaca(ALPACA_CREDS) \n",
    "strategy = MLTrader(name='mlstrat', broker=broker, \n",
    "                    parameters={\"symbol\":\"SPY\", \n",
    "                                \"cash_at_risk\":.5})\n",
    "strategy.backtest(\n",
    "    YahooDataBacktesting, \n",
    "    start_date, \n",
    "    end_date, \n",
    "    parameters={\"symbol\":\"SPY\", \"cash_at_risk\":.5}\n",
    ")\n",
    "# trader = Trader()\n",
    "# trader.add_strategy(strategy)\n",
    "# trader.run_all()"
   ]
  }
 ],
 "metadata": {
  "kernelspec": {
   "display_name": "Python 3 (ipykernel)",
   "language": "python",
   "name": "python3"
  },
  "language_info": {
   "codemirror_mode": {
    "name": "ipython",
    "version": 3
   },
   "file_extension": ".py",
   "mimetype": "text/x-python",
   "name": "python",
   "nbconvert_exporter": "python",
   "pygments_lexer": "ipython3",
   "version": "3.10.8"
  }
 },
 "nbformat": 4,
 "nbformat_minor": 5
}
